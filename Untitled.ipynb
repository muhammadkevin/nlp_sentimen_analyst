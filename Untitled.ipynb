{
 "cells": [
  {
   "cell_type": "code",
   "execution_count": 1,
   "id": "da0e31b2-9985-4af9-9132-6e78e3656af5",
   "metadata": {},
   "outputs": [
    {
     "name": "stderr",
     "output_type": "stream",
     "text": [
      "C:\\Program Files\\Python38\\lib\\site-packages\\tqdm\\auto.py:21: TqdmWarning: IProgress not found. Please update jupyter and ipywidgets. See https://ipywidgets.readthedocs.io/en/stable/user_install.html\n",
      "  from .autonotebook import tqdm as notebook_tqdm\n"
     ]
    },
    {
     "name": "stdout",
     "output_type": "stream",
     "text": [
      "Pandas version: 2.0.3\n",
      "Numpy version: 1.24.3\n",
      "PyPlot version: 3.7.5\n",
      "Scikit Learn version: 1.3.2\n",
      "Tensorflow version: 2.13.0\n",
      "Transformers version: 4.46.3\n",
      "Regex version: 2.2.1\n",
      "NLTK version: 3.9.1\n",
      "Gensim version: 4.3.3\n"
     ]
    }
   ],
   "source": [
    "# Data processing\n",
    "import pandas as pd\n",
    "import numpy as np\n",
    "\n",
    "# Machine Learning\n",
    "import sklearn\n",
    "from sklearn.model_selection import train_test_split\n",
    "from sklearn.feature_extraction.text import CountVectorizer, TfidfVectorizer\n",
    "from sklearn.linear_model import LogisticRegression\n",
    "from sklearn.pipeline import Pipeline\n",
    "from sklearn.metrics import accuracy_score\n",
    "from sklearn.preprocessing import LabelBinarizer\n",
    "\n",
    "import tensorflow as tf\n",
    "from keras import preprocessing as kprocessing\n",
    "from keras import models, layers, optimizers\n",
    "from tensorflow.keras.preprocessing.text import Tokenizer\n",
    "\n",
    "import transformers\n",
    "from transformers import DistilBertTokenizer, TFDistilBertModel\n",
    "\n",
    "# Visualization\n",
    "import matplotlib\n",
    "from matplotlib import pyplot as plt\n",
    "\n",
    "# Text processing\n",
    "import re\n",
    "import nltk\n",
    "import gensim\n",
    "import gensim.downloader as api\n",
    "\n",
    "# Various\n",
    "from datetime import datetime\n",
    "\n",
    "# Showing the versions used\n",
    "print('Pandas version: {}'.format(pd.__version__))\n",
    "print('Numpy version: {}'.format(np.__version__))\n",
    "print('PyPlot version: {}'.format(matplotlib.__version__))\n",
    "print('Scikit Learn version: {}'.format(sklearn.__version__))\n",
    "print('Tensorflow version: {}'.format(tf.__version__))\n",
    "print('Transformers version: {}'.format(transformers.__version__))\n",
    "print('Regex version: {}'.format(re.__version__))\n",
    "print('NLTK version: {}'.format(nltk.__version__))\n",
    "print('Gensim version: {}'.format(gensim.__version__))"
   ]
  },
  {
   "cell_type": "code",
   "execution_count": 2,
   "id": "bf07495c-6b03-47e8-9eed-cee0a8bbcf86",
   "metadata": {},
   "outputs": [
    {
     "data": {
      "text/html": [
       "<div>\n",
       "<style scoped>\n",
       "    .dataframe tbody tr th:only-of-type {\n",
       "        vertical-align: middle;\n",
       "    }\n",
       "\n",
       "    .dataframe tbody tr th {\n",
       "        vertical-align: top;\n",
       "    }\n",
       "\n",
       "    .dataframe thead th {\n",
       "        text-align: right;\n",
       "    }\n",
       "</style>\n",
       "<table border=\"1\" class=\"dataframe\">\n",
       "  <thead>\n",
       "    <tr style=\"text-align: right;\">\n",
       "      <th></th>\n",
       "      <th>category</th>\n",
       "      <th>text</th>\n",
       "    </tr>\n",
       "  </thead>\n",
       "  <tbody>\n",
       "    <tr>\n",
       "      <th>0</th>\n",
       "      <td>Amazon Devices,mazon.co.uk</td>\n",
       "      <td>I initially had trouble deciding between the p...</td>\n",
       "    </tr>\n",
       "    <tr>\n",
       "      <th>1</th>\n",
       "      <td>Amazon Devices,mazon.co.uk</td>\n",
       "      <td>Allow me to preface this with a little history...</td>\n",
       "    </tr>\n",
       "    <tr>\n",
       "      <th>2</th>\n",
       "      <td>Amazon Devices,mazon.co.uk</td>\n",
       "      <td>I am enjoying it so far. Great for reading. Ha...</td>\n",
       "    </tr>\n",
       "    <tr>\n",
       "      <th>3</th>\n",
       "      <td>Amazon Devices,mazon.co.uk</td>\n",
       "      <td>I bought one of the first Paperwhites and have...</td>\n",
       "    </tr>\n",
       "    <tr>\n",
       "      <th>4</th>\n",
       "      <td>Amazon Devices,mazon.co.uk</td>\n",
       "      <td>I have to say upfront - I don't like coroporat...</td>\n",
       "    </tr>\n",
       "  </tbody>\n",
       "</table>\n",
       "</div>"
      ],
      "text/plain": [
       "                     category  \\\n",
       "0  Amazon Devices,mazon.co.uk   \n",
       "1  Amazon Devices,mazon.co.uk   \n",
       "2  Amazon Devices,mazon.co.uk   \n",
       "3  Amazon Devices,mazon.co.uk   \n",
       "4  Amazon Devices,mazon.co.uk   \n",
       "\n",
       "                                                text  \n",
       "0  I initially had trouble deciding between the p...  \n",
       "1  Allow me to preface this with a little history...  \n",
       "2  I am enjoying it so far. Great for reading. Ha...  \n",
       "3  I bought one of the first Paperwhites and have...  \n",
       "4  I have to say upfront - I don't like coroporat...  "
      ]
     },
     "execution_count": 2,
     "metadata": {},
     "output_type": "execute_result"
    }
   ],
   "source": [
    "df = pd.read_csv('new-dataset.csv', low_memory=False)\n",
    "df.rename(columns={\"categories\": \"category\", \"reviews.text\": \"text\"}, inplace=True)\n",
    "df = df[[\"category\", \"text\"]]\n",
    "df.head()"
   ]
  },
  {
   "cell_type": "code",
   "execution_count": 3,
   "id": "ef05f994-0461-42d2-81ac-fabf62c8b4bc",
   "metadata": {},
   "outputs": [
    {
     "name": "stdout",
     "output_type": "stream",
     "text": [
      "Total number of news: 1597\n",
      "----------------------------------------\n",
      "Split by category:\n",
      "category\n",
      "Amazon Devices,Home,Smart Home & Connected Living,Smart Hubs & Wireless Routers,Smart Hubs,Home Improvement,Home Safety & Security,Alarms & Sensors,Home Security,Amazon Echo,Home, Garage & Office,Smart Home,Voice Assistants,Amazon Tap,Electronics Features,TVs & Electronics,Portable Audio & Electronics,MP3 Player Accessories,Home Theater & Audio,Speakers,Featured Brands,Electronics,Kindle Store,Frys,Electronic Components,Home Automation,Electronics, Tech Toys, Movies, Music,Audio,Bluetooth Speakers    542\n",
      "Amazon Devices                                                                                                                                                                                                                                                                                                                                                                                                                                                                                                            195\n",
      "Categories,Amazon Devices,Electronics Features,Streaming Media Players,Consumer Electronics,See more Amazon Fire TV Digital HD Media Streamer (Late...                                                                                                                                                                                                                                                                                                                                                                    166\n",
      "Amazon Devices,Kindle Store                                                                                                                                                                                                                                                                                                                                                                                                                                                                                               151\n",
      "Amazon Devices,Corded Headsets,Electronics Features,Electronics,Audio,Headphones,Kindle Store,Kindle Accessories                                                                                                                                                                                                                                                                                                                                                                                                          133\n",
      "Electronics,Amazon Devices                                                                                                                                                                                                                                                                                                                                                                                                                                                                                                111\n",
      "Amazon Devices,Kindle Store,buy a kindle                                                                                                                                                                                                                                                                                                                                                                                                                                                                                   70\n",
      "Categories,Amazon Devices,Streaming Media Players                                                                                                                                                                                                                                                                                                                                                                                                                                                                          38\n",
      "Kindle Store,Amazon Devices,Electronics                                                                                                                                                                                                                                                                                                                                                                                                                                                                                    32\n",
      "Amazon Devices & Accessories,Amazon Device Accessories,Controllers & Remote Controls,Kindle Store,Fire TV Accessories,Controllers & Remotes,Controllers                                                                                                                                                                                                                                                                                                                                                                    29\n",
      "Amazon Devices,mazon.co.uk                                                                                                                                                                                                                                                                                                                                                                                                                                                                                                 23\n",
      "Amazon Devices & Accessories,Amazon Device Accessories,Kindle Store,Kindle E-Reader Accessories,Kindle Oasis Accessories                                                                                                                                                                                                                                                                                                                                                                                                   22\n",
      "Amazon Devices & Accessories,Amazon Device Accessories,Power Adapters & Cables,Kindle Store,Kindle E-Reader Accessories,Kindle Paperwhite Accessories                                                                                                                                                                                                                                                                                                                                                                      19\n",
      "Amazon Devices,Kindle Accessories                                                                                                                                                                                                                                                                                                                                                                                                                                                                                          18\n",
      "Amazon Devices,Electronics,Kindle Store                                                                                                                                                                                                                                                                                                                                                                                                                                                                                    16\n",
      "Cell Phones & Accessories,Accessories,Screen Protectors,Cell,Amazon Devices,Electronics                                                                                                                                                                                                                                                                                                                                                                                                                                    12\n",
      "Amazon Devices,Electronics,Kindle Store,Amazon Echo                                                                                                                                                                                                                                                                                                                                                                                                                                                                         9\n",
      "Amazon Devices & Accessories,Amazon Device Accessories,Controllers & Remote Controls,Kindle Store,Amazon Echo Accessories,Remote Controls                                                                                                                                                                                                                                                                                                                                                                                   7\n",
      "Amazon Devices,Kindle Store,Kindle Accessories                                                                                                                                                                                                                                                                                                                                                                                                                                                                              4\n",
      "Name: count, dtype: int64\n",
      "----------------------------------------\n",
      "Number of categories: 19\n"
     ]
    }
   ],
   "source": [
    "category_counts = df.groupby('category').size()\n",
    "\n",
    "# Memfilter kategori yang memiliki lebih dari satu teks\n",
    "df = df[df['category'].isin(category_counts[category_counts > 1].index)]\n",
    "\n",
    "print('Total number of news: {}'.format(len(df)))\n",
    "print(40*'-')\n",
    "print('Split by category:')\n",
    "\n",
    "print(df[\"category\"].value_counts())\n",
    "print(40*'-')\n",
    "nr_categories = len(df[\"category\"].unique())\n",
    "\n",
    "print(\"Number of categories: {n}\".format(n=nr_categories))"
   ]
  },
  {
   "cell_type": "code",
   "execution_count": 4,
   "id": "de0e1189-07bb-4ac0-8e7f-9500d1c209d5",
   "metadata": {},
   "outputs": [
    {
     "name": "stdout",
     "output_type": "stream",
     "text": [
      "Category:  Amazon Devices\n",
      "----------------------------------------------------------------------------------------------------\n",
      "Text:\n",
      "A great looking cover for the Echo Dot. It gives the Dot a softer and more elegant look. I feel that it is a little pricy for what you get but I do not regret my decision to buy this case.\n"
     ]
    }
   ],
   "source": [
    "# You can adjust n:\n",
    "n=100\n",
    "print('Category: ',df['category'][n])\n",
    "print(100*'-')\n",
    "print('Text:')\n",
    "print(df['text'][n])"
   ]
  },
  {
   "cell_type": "code",
   "execution_count": 5,
   "id": "1f1ec1df-9803-42d6-895a-685b4e7af78e",
   "metadata": {},
   "outputs": [
    {
     "name": "stderr",
     "output_type": "stream",
     "text": [
      "[nltk_data] Downloading package stopwords to\n",
      "[nltk_data]     C:\\Users\\Administrator\\AppData\\Roaming\\nltk_data...\n",
      "[nltk_data]   Package stopwords is already up-to-date!\n",
      "[nltk_data] Downloading package wordnet to\n",
      "[nltk_data]     C:\\Users\\Administrator\\AppData\\Roaming\\nltk_data...\n",
      "[nltk_data]   Package wordnet is already up-to-date!\n",
      "[nltk_data] Downloading package omw-1.4 to\n",
      "[nltk_data]     C:\\Users\\Administrator\\AppData\\Roaming\\nltk_data...\n",
      "[nltk_data]   Package omw-1.4 is already up-to-date!\n"
     ]
    },
    {
     "data": {
      "text/plain": [
       "True"
      ]
     },
     "execution_count": 5,
     "metadata": {},
     "output_type": "execute_result"
    }
   ],
   "source": [
    "# kumpulan kata yang diabaikan\n",
    "nltk.download ('stopwords') \n",
    "nltk.download('wordnet')\n",
    "nltk.download('omw-1.4')"
   ]
  },
  {
   "cell_type": "code",
   "execution_count": 6,
   "id": "3aab2e64-1d91-4930-9886-46d54bb00042",
   "metadata": {},
   "outputs": [],
   "source": [
    "# Reference: Text Classification with NLP: Tf-Idf vs Word2Vec vs BERT from Medium\n",
    "\n",
    "# Use stopwords list from nltk (that is used in the function below)\n",
    "lst_stopwords = nltk.corpus.stopwords.words(\"english\")\n",
    "\n",
    "def utils_preprocess_text(text, flg_stemm=False, flg_lemm=True, lst_stopwords=None):\n",
    "    # Clean (convert to lowercase and remove punctuations and characters and then strip)\n",
    "    # The function is not optimized for speed but split into various steps for pedagogical purpose\n",
    "    text = str(text).lower()\n",
    "    text = text.strip()\n",
    "    text = re.sub(r'[^\\w\\s]', '', text)\n",
    "\n",
    "    # Tokenize (convert from string to list)\n",
    "    lst_text = text.split()\n",
    "    # remove Stopwords\n",
    "    if lst_stopwords is not None:\n",
    "        lst_text = [word for word in lst_text if word not in lst_stopwords]\n",
    "\n",
    "    # Stemming (remove -ing, -ly, ...)\n",
    "    if flg_stemm == True:\n",
    "        ps = nltk.stem.porter.PorterStemmer()\n",
    "        lst_text = [ps.stem(word) for word in lst_text]\n",
    "\n",
    "    # Lemmatisation (convert the word into root word)\n",
    "    if flg_lemm == True:\n",
    "        lem = nltk.stem.wordnet.WordNetLemmatizer()\n",
    "        lst_text = [lem.lemmatize(word) for word in lst_text]\n",
    "\n",
    "    # back to string from list\n",
    "    text = \" \".join(lst_text)\n",
    "    return text"
   ]
  },
  {
   "cell_type": "code",
   "execution_count": 7,
   "id": "201003f8-44e4-4608-80d1-5dc49760d378",
   "metadata": {},
   "outputs": [
    {
     "data": {
      "text/html": [
       "<div>\n",
       "<style scoped>\n",
       "    .dataframe tbody tr th:only-of-type {\n",
       "        vertical-align: middle;\n",
       "    }\n",
       "\n",
       "    .dataframe tbody tr th {\n",
       "        vertical-align: top;\n",
       "    }\n",
       "\n",
       "    .dataframe thead th {\n",
       "        text-align: right;\n",
       "    }\n",
       "</style>\n",
       "<table border=\"1\" class=\"dataframe\">\n",
       "  <thead>\n",
       "    <tr style=\"text-align: right;\">\n",
       "      <th></th>\n",
       "      <th>category</th>\n",
       "      <th>text</th>\n",
       "      <th>text_clean</th>\n",
       "    </tr>\n",
       "  </thead>\n",
       "  <tbody>\n",
       "    <tr>\n",
       "      <th>0</th>\n",
       "      <td>Amazon Devices,mazon.co.uk</td>\n",
       "      <td>I initially had trouble deciding between the p...</td>\n",
       "      <td>initially trouble deciding paperwhite voyage r...</td>\n",
       "    </tr>\n",
       "    <tr>\n",
       "      <th>1</th>\n",
       "      <td>Amazon Devices,mazon.co.uk</td>\n",
       "      <td>Allow me to preface this with a little history...</td>\n",
       "      <td>allow preface little history casual reader own...</td>\n",
       "    </tr>\n",
       "    <tr>\n",
       "      <th>2</th>\n",
       "      <td>Amazon Devices,mazon.co.uk</td>\n",
       "      <td>I am enjoying it so far. Great for reading. Ha...</td>\n",
       "      <td>enjoying far great reading original fire since...</td>\n",
       "    </tr>\n",
       "    <tr>\n",
       "      <th>3</th>\n",
       "      <td>Amazon Devices,mazon.co.uk</td>\n",
       "      <td>I bought one of the first Paperwhites and have...</td>\n",
       "      <td>bought one first paperwhites pleased constant ...</td>\n",
       "    </tr>\n",
       "    <tr>\n",
       "      <th>4</th>\n",
       "      <td>Amazon Devices,mazon.co.uk</td>\n",
       "      <td>I have to say upfront - I don't like coroporat...</td>\n",
       "      <td>say upfront dont like coroporate hermetically ...</td>\n",
       "    </tr>\n",
       "  </tbody>\n",
       "</table>\n",
       "</div>"
      ],
      "text/plain": [
       "                     category  \\\n",
       "0  Amazon Devices,mazon.co.uk   \n",
       "1  Amazon Devices,mazon.co.uk   \n",
       "2  Amazon Devices,mazon.co.uk   \n",
       "3  Amazon Devices,mazon.co.uk   \n",
       "4  Amazon Devices,mazon.co.uk   \n",
       "\n",
       "                                                text  \\\n",
       "0  I initially had trouble deciding between the p...   \n",
       "1  Allow me to preface this with a little history...   \n",
       "2  I am enjoying it so far. Great for reading. Ha...   \n",
       "3  I bought one of the first Paperwhites and have...   \n",
       "4  I have to say upfront - I don't like coroporat...   \n",
       "\n",
       "                                          text_clean  \n",
       "0  initially trouble deciding paperwhite voyage r...  \n",
       "1  allow preface little history casual reader own...  \n",
       "2  enjoying far great reading original fire since...  \n",
       "3  bought one first paperwhites pleased constant ...  \n",
       "4  say upfront dont like coroporate hermetically ...  "
      ]
     },
     "execution_count": 7,
     "metadata": {},
     "output_type": "execute_result"
    }
   ],
   "source": [
    "# Let's apply this function to the whole corpus\n",
    "df[\"text_clean\"] = df[\"text\"].apply(lambda x: utils_preprocess_text(x, flg_stemm=False, flg_lemm=True, lst_stopwords=lst_stopwords))\n",
    "\n",
    "# Let's look at the output\n",
    "df.head()"
   ]
  },
  {
   "cell_type": "code",
   "execution_count": 8,
   "id": "6b269347-16f2-4865-b818-f4aa6fcc89ef",
   "metadata": {},
   "outputs": [],
   "source": [
    "# Renaming, Input -> X, Output -> y\n",
    "X = df['text_clean']\n",
    "y = df['category']"
   ]
  },
  {
   "cell_type": "code",
   "execution_count": 9,
   "id": "d816bad0-13d3-40bd-8a7b-fc3e84612828",
   "metadata": {},
   "outputs": [],
   "source": [
    "# Split into Training and Test sets\n",
    "X_train, X_test, y_train, y_test = train_test_split(X, y, test_size=0.3, random_state=42, stratify=df['category'])"
   ]
  },
  {
   "cell_type": "code",
   "execution_count": 10,
   "id": "7ac4c236-d0d5-4b8f-81be-37c4c1a83308",
   "metadata": {},
   "outputs": [
    {
     "data": {
      "text/plain": [
       "category\n",
       "Amazon Devices                                                                                                                                                                                                                                                                                                                                                                                                                                                                                                            0.697436\n",
       "Amazon Devices & Accessories,Amazon Device Accessories,Controllers & Remote Controls,Kindle Store,Amazon Echo Accessories,Remote Controls                                                                                                                                                                                                                                                                                                                                                                                 0.714286\n",
       "Amazon Devices & Accessories,Amazon Device Accessories,Controllers & Remote Controls,Kindle Store,Fire TV Accessories,Controllers & Remotes,Controllers                                                                                                                                                                                                                                                                                                                                                                   0.689655\n",
       "Amazon Devices & Accessories,Amazon Device Accessories,Kindle Store,Kindle E-Reader Accessories,Kindle Oasis Accessories                                                                                                                                                                                                                                                                                                                                                                                                  0.681818\n",
       "Amazon Devices & Accessories,Amazon Device Accessories,Power Adapters & Cables,Kindle Store,Kindle E-Reader Accessories,Kindle Paperwhite Accessories                                                                                                                                                                                                                                                                                                                                                                     0.684211\n",
       "Amazon Devices,Corded Headsets,Electronics Features,Electronics,Audio,Headphones,Kindle Store,Kindle Accessories                                                                                                                                                                                                                                                                                                                                                                                                          0.699248\n",
       "Amazon Devices,Electronics,Kindle Store                                                                                                                                                                                                                                                                                                                                                                                                                                                                                   0.687500\n",
       "Amazon Devices,Electronics,Kindle Store,Amazon Echo                                                                                                                                                                                                                                                                                                                                                                                                                                                                       0.666667\n",
       "Amazon Devices,Home,Smart Home & Connected Living,Smart Hubs & Wireless Routers,Smart Hubs,Home Improvement,Home Safety & Security,Alarms & Sensors,Home Security,Amazon Echo,Home, Garage & Office,Smart Home,Voice Assistants,Amazon Tap,Electronics Features,TVs & Electronics,Portable Audio & Electronics,MP3 Player Accessories,Home Theater & Audio,Speakers,Featured Brands,Electronics,Kindle Store,Frys,Electronic Components,Home Automation,Electronics, Tech Toys, Movies, Music,Audio,Bluetooth Speakers    0.699262\n",
       "Amazon Devices,Kindle Accessories                                                                                                                                                                                                                                                                                                                                                                                                                                                                                         0.722222\n",
       "Amazon Devices,Kindle Store                                                                                                                                                                                                                                                                                                                                                                                                                                                                                               0.701987\n",
       "Amazon Devices,Kindle Store,Kindle Accessories                                                                                                                                                                                                                                                                                                                                                                                                                                                                            0.750000\n",
       "Amazon Devices,Kindle Store,buy a kindle                                                                                                                                                                                                                                                                                                                                                                                                                                                                                  0.700000\n",
       "Amazon Devices,mazon.co.uk                                                                                                                                                                                                                                                                                                                                                                                                                                                                                                0.695652\n",
       "Categories,Amazon Devices,Electronics Features,Streaming Media Players,Consumer Electronics,See more Amazon Fire TV Digital HD Media Streamer (Late...                                                                                                                                                                                                                                                                                                                                                                    0.698795\n",
       "Categories,Amazon Devices,Streaming Media Players                                                                                                                                                                                                                                                                                                                                                                                                                                                                         0.710526\n",
       "Cell Phones & Accessories,Accessories,Screen Protectors,Cell,Amazon Devices,Electronics                                                                                                                                                                                                                                                                                                                                                                                                                                   0.750000\n",
       "Electronics,Amazon Devices                                                                                                                                                                                                                                                                                                                                                                                                                                                                                                0.702703\n",
       "Kindle Store,Amazon Devices,Electronics                                                                                                                                                                                                                                                                                                                                                                                                                                                                                   0.687500\n",
       "Name: count, dtype: float64"
      ]
     },
     "execution_count": 10,
     "metadata": {},
     "output_type": "execute_result"
    }
   ],
   "source": [
    "y_train.value_counts()/y.value_counts()"
   ]
  },
  {
   "cell_type": "code",
   "execution_count": 11,
   "id": "f02802d9-f9a8-4a6a-9cf9-14c5f6631c27",
   "metadata": {},
   "outputs": [
    {
     "data": {
      "text/html": [
       "<style>#sk-container-id-1 {color: black;}#sk-container-id-1 pre{padding: 0;}#sk-container-id-1 div.sk-toggleable {background-color: white;}#sk-container-id-1 label.sk-toggleable__label {cursor: pointer;display: block;width: 100%;margin-bottom: 0;padding: 0.3em;box-sizing: border-box;text-align: center;}#sk-container-id-1 label.sk-toggleable__label-arrow:before {content: \"▸\";float: left;margin-right: 0.25em;color: #696969;}#sk-container-id-1 label.sk-toggleable__label-arrow:hover:before {color: black;}#sk-container-id-1 div.sk-estimator:hover label.sk-toggleable__label-arrow:before {color: black;}#sk-container-id-1 div.sk-toggleable__content {max-height: 0;max-width: 0;overflow: hidden;text-align: left;background-color: #f0f8ff;}#sk-container-id-1 div.sk-toggleable__content pre {margin: 0.2em;color: black;border-radius: 0.25em;background-color: #f0f8ff;}#sk-container-id-1 input.sk-toggleable__control:checked~div.sk-toggleable__content {max-height: 200px;max-width: 100%;overflow: auto;}#sk-container-id-1 input.sk-toggleable__control:checked~label.sk-toggleable__label-arrow:before {content: \"▾\";}#sk-container-id-1 div.sk-estimator input.sk-toggleable__control:checked~label.sk-toggleable__label {background-color: #d4ebff;}#sk-container-id-1 div.sk-label input.sk-toggleable__control:checked~label.sk-toggleable__label {background-color: #d4ebff;}#sk-container-id-1 input.sk-hidden--visually {border: 0;clip: rect(1px 1px 1px 1px);clip: rect(1px, 1px, 1px, 1px);height: 1px;margin: -1px;overflow: hidden;padding: 0;position: absolute;width: 1px;}#sk-container-id-1 div.sk-estimator {font-family: monospace;background-color: #f0f8ff;border: 1px dotted black;border-radius: 0.25em;box-sizing: border-box;margin-bottom: 0.5em;}#sk-container-id-1 div.sk-estimator:hover {background-color: #d4ebff;}#sk-container-id-1 div.sk-parallel-item::after {content: \"\";width: 100%;border-bottom: 1px solid gray;flex-grow: 1;}#sk-container-id-1 div.sk-label:hover label.sk-toggleable__label {background-color: #d4ebff;}#sk-container-id-1 div.sk-serial::before {content: \"\";position: absolute;border-left: 1px solid gray;box-sizing: border-box;top: 0;bottom: 0;left: 50%;z-index: 0;}#sk-container-id-1 div.sk-serial {display: flex;flex-direction: column;align-items: center;background-color: white;padding-right: 0.2em;padding-left: 0.2em;position: relative;}#sk-container-id-1 div.sk-item {position: relative;z-index: 1;}#sk-container-id-1 div.sk-parallel {display: flex;align-items: stretch;justify-content: center;background-color: white;position: relative;}#sk-container-id-1 div.sk-item::before, #sk-container-id-1 div.sk-parallel-item::before {content: \"\";position: absolute;border-left: 1px solid gray;box-sizing: border-box;top: 0;bottom: 0;left: 50%;z-index: -1;}#sk-container-id-1 div.sk-parallel-item {display: flex;flex-direction: column;z-index: 1;position: relative;background-color: white;}#sk-container-id-1 div.sk-parallel-item:first-child::after {align-self: flex-end;width: 50%;}#sk-container-id-1 div.sk-parallel-item:last-child::after {align-self: flex-start;width: 50%;}#sk-container-id-1 div.sk-parallel-item:only-child::after {width: 0;}#sk-container-id-1 div.sk-dashed-wrapped {border: 1px dashed gray;margin: 0 0.4em 0.5em 0.4em;box-sizing: border-box;padding-bottom: 0.4em;background-color: white;}#sk-container-id-1 div.sk-label label {font-family: monospace;font-weight: bold;display: inline-block;line-height: 1.2em;}#sk-container-id-1 div.sk-label-container {text-align: center;}#sk-container-id-1 div.sk-container {/* jupyter's `normalize.less` sets `[hidden] { display: none; }` but bootstrap.min.css set `[hidden] { display: none !important; }` so we also need the `!important` here to be able to override the default hidden behavior on the sphinx rendered scikit-learn.org. See: https://github.com/scikit-learn/scikit-learn/issues/21755 */display: inline-block !important;position: relative;}#sk-container-id-1 div.sk-text-repr-fallback {display: none;}</style><div id=\"sk-container-id-1\" class=\"sk-top-container\"><div class=\"sk-text-repr-fallback\"><pre>TfidfVectorizer(max_features=15000, ngram_range=(1, 2))</pre><b>In a Jupyter environment, please rerun this cell to show the HTML representation or trust the notebook. <br />On GitHub, the HTML representation is unable to render, please try loading this page with nbviewer.org.</b></div><div class=\"sk-container\" hidden><div class=\"sk-item\"><div class=\"sk-estimator sk-toggleable\"><input class=\"sk-toggleable__control sk-hidden--visually\" id=\"sk-estimator-id-1\" type=\"checkbox\" checked><label for=\"sk-estimator-id-1\" class=\"sk-toggleable__label sk-toggleable__label-arrow\">TfidfVectorizer</label><div class=\"sk-toggleable__content\"><pre>TfidfVectorizer(max_features=15000, ngram_range=(1, 2))</pre></div></div></div></div></div>"
      ],
      "text/plain": [
       "TfidfVectorizer(max_features=15000, ngram_range=(1, 2))"
      ]
     },
     "execution_count": 11,
     "metadata": {},
     "output_type": "execute_result"
    }
   ],
   "source": [
    "corpus = X_train\n",
    "# Initizalize the vectorizer with max nr words and ngrams (1: single words, 2: two words in a row)\n",
    "vectorizer_tfidf = TfidfVectorizer(max_features=15000, ngram_range=(1,2))\n",
    "# Fit the vectorizer to the training data\n",
    "vectorizer_tfidf.fit(corpus)"
   ]
  },
  {
   "cell_type": "code",
   "execution_count": 12,
   "id": "10886181-2f60-47a2-8eb4-124a770334bb",
   "metadata": {},
   "outputs": [],
   "source": [
    "classifier_tfidf = LogisticRegression(max_iter=1000)\n",
    "model_tfidf = Pipeline([(\"vectorizer\", vectorizer_tfidf), (\"classifier\", classifier_tfidf)])\n",
    "\n",
    "start_time = datetime.now()\n",
    "model_tfidf.fit(X_train, y_train)\n",
    "end_time = datetime.now()\n",
    "\n",
    "training_time_tfidf = (end_time - start_time).total_seconds()"
   ]
  },
  {
   "cell_type": "code",
   "execution_count": 13,
   "id": "3cf43a63-81f0-4dc7-9c2d-83db5b5166e4",
   "metadata": {},
   "outputs": [
    {
     "name": "stdout",
     "output_type": "stream",
     "text": [
      "Accuracy Training data: 82.5%\n",
      "Accuracy Test data: 77.3%\n",
      "Training time: 2.8s\n"
     ]
    }
   ],
   "source": [
    "predicted_train_tfidf = model_tfidf.predict(X_train)\n",
    "accuracy_train_tfidf = accuracy_score(y_train, predicted_train_tfidf)\n",
    "print('Accuracy Training data: {:.1%}'.format(accuracy_train_tfidf))\n",
    "\n",
    "predicted_test_tfidf = model_tfidf.predict(X_test)\n",
    "accuracy_test_tfidf = accuracy_score(y_test, predicted_test_tfidf)\n",
    "accuracy_tfidf = accuracy_test_tfidf\n",
    "print('Accuracy Test data: {:.1%}'.format(accuracy_test_tfidf))\n",
    "\n",
    "print('Training time: {:.1f}s'.format(training_time_tfidf))"
   ]
  },
  {
   "cell_type": "code",
   "execution_count": 14,
   "id": "683741ae-0f45-4a22-9bf4-04cd59afb756",
   "metadata": {},
   "outputs": [
    {
     "name": "stdout",
     "output_type": "stream",
     "text": [
      "Classes of the model:  ['Amazon Devices'\n",
      " 'Amazon Devices & Accessories,Amazon Device Accessories,Controllers & Remote Controls,Kindle Store,Amazon Echo Accessories,Remote Controls'\n",
      " 'Amazon Devices & Accessories,Amazon Device Accessories,Controllers & Remote Controls,Kindle Store,Fire TV Accessories,Controllers & Remotes,Controllers'\n",
      " 'Amazon Devices & Accessories,Amazon Device Accessories,Kindle Store,Kindle E-Reader Accessories,Kindle Oasis Accessories'\n",
      " 'Amazon Devices & Accessories,Amazon Device Accessories,Power Adapters & Cables,Kindle Store,Kindle E-Reader Accessories,Kindle Paperwhite Accessories'\n",
      " 'Amazon Devices,Corded Headsets,Electronics Features,Electronics,Audio,Headphones,Kindle Store,Kindle Accessories'\n",
      " 'Amazon Devices,Electronics,Kindle Store'\n",
      " 'Amazon Devices,Electronics,Kindle Store,Amazon Echo'\n",
      " 'Amazon Devices,Home,Smart Home & Connected Living,Smart Hubs & Wireless Routers,Smart Hubs,Home Improvement,Home Safety & Security,Alarms & Sensors,Home Security,Amazon Echo,Home, Garage & Office,Smart Home,Voice Assistants,Amazon Tap,Electronics Features,TVs & Electronics,Portable Audio & Electronics,MP3 Player Accessories,Home Theater & Audio,Speakers,Featured Brands,Electronics,Kindle Store,Frys,Electronic Components,Home Automation,Electronics, Tech Toys, Movies, Music,Audio,Bluetooth Speakers'\n",
      " 'Amazon Devices,Kindle Accessories' 'Amazon Devices,Kindle Store'\n",
      " 'Amazon Devices,Kindle Store,Kindle Accessories'\n",
      " 'Amazon Devices,Kindle Store,buy a kindle' 'Amazon Devices,mazon.co.uk'\n",
      " 'Categories,Amazon Devices,Electronics Features,Streaming Media Players,Consumer Electronics,See more Amazon Fire TV Digital HD Media Streamer (Late...'\n",
      " 'Categories,Amazon Devices,Streaming Media Players'\n",
      " 'Cell Phones & Accessories,Accessories,Screen Protectors,Cell,Amazon Devices,Electronics'\n",
      " 'Electronics,Amazon Devices' 'Kindle Store,Amazon Devices,Electronics']\n",
      "--------------------------------------------------------------------------------\n",
      "Shape of the coefficients of the model (categories x vocabulary size):  (19, 15000)\n",
      "--------------------------------------------------------------------------------\n",
      "Amazon Devices: review, title, dot, video, 89, refurbished, show, sling, controller, hdx, \n",
      "--------------------------------------------------------------------------------\n",
      "Amazon Devices & Accessories,Amazon Device Accessories,Controllers & Remote Controls,Kindle Store,Amazon Echo Accessories,Remote Controls: dont box, magnetic, box, week completely, working dont, bedroom, echo, voice remote, command, remote, \n",
      "--------------------------------------------------------------------------------\n",
      "Amazon Devices & Accessories,Amazon Device Accessories,Controllers & Remote Controls,Kindle Store,Fire TV Accessories,Controllers & Remotes,Controllers: stopped working, fire tv, another, fire, stick, working, fire stick, replacement remote, replacement, remote, \n",
      "--------------------------------------------------------------------------------\n",
      "Amazon Devices & Accessories,Amazon Device Accessories,Kindle Store,Kindle E-Reader Accessories,Kindle Oasis Accessories: product awesome, merlot, love way, original, way expensive, original cover, kindle far, oasis, cover, excellent, \n",
      "--------------------------------------------------------------------------------\n",
      "Amazon Devices & Accessories,Amazon Device Accessories,Power Adapters & Cables,Kindle Store,Kindle E-Reader Accessories,Kindle Paperwhite Accessories: meet, charge, purchasing oasis, doesnt work, square, rate, high quality, first rate, rate high, charger, \n",
      "--------------------------------------------------------------------------------\n",
      "Amazon Devices,Corded Headsets,Electronics Features,Electronics,Audio,Headphones,Kindle Store,Kindle Accessories: earpods, bud, dont, like, sound, apple, magnet, earbuds, ear, headphone, \n",
      "--------------------------------------------------------------------------------\n",
      "Amazon Devices,Electronics,Kindle Store: cat, echo dot, played, brother, device, alexa, tablet, mom, echo, dot, \n",
      "--------------------------------------------------------------------------------\n",
      "Amazon Devices,Electronics,Kindle Store,Amazon Echo: joystick, smart technology, thing, list, married, weve, echo, name, room, alexa, \n",
      "--------------------------------------------------------------------------------\n",
      "Amazon Devices,Home,Smart Home & Connected Living,Smart Hubs & Wireless Routers,Smart Hubs,Home Improvement,Home Safety & Security,Alarms & Sensors,Home Security,Amazon Echo,Home, Garage & Office,Smart Home,Voice Assistants,Amazon Tap,Electronics Features,TVs & Electronics,Portable Audio & Electronics,MP3 Player Accessories,Home Theater & Audio,Speakers,Featured Brands,Electronics,Kindle Store,Frys,Electronic Components,Home Automation,Electronics, Tech Toys, Movies, Music,Audio,Bluetooth Speakers: gift, good, music, love, great, alexa, echo, sound, speaker, tap, \n",
      "--------------------------------------------------------------------------------\n",
      "Amazon Devices,Kindle Accessories: original, child, text, child read, keyboard, new, lighting, original paperwhite, kindle, paperwhite, \n",
      "--------------------------------------------------------------------------------\n",
      "Amazon Devices,Kindle Store: protects, color, cool, perfect, fabric, stand, fit, sturdy, kindle, case, \n",
      "--------------------------------------------------------------------------------\n",
      "Amazon Devices,Kindle Store,Kindle Accessories: reading, new paperwhite, text, kindle keyboard, new, keyboard, lighting, original paperwhite, kindle, paperwhite, \n",
      "--------------------------------------------------------------------------------\n",
      "Amazon Devices,Kindle Store,buy a kindle: last year, year, tablet, read, fire hd, fire, kindle fire, kindle, hd, hdx, \n",
      "--------------------------------------------------------------------------------\n",
      "Amazon Devices,mazon.co.uk: format, chinese, delivery, reader, kindle, baby, light, reading, book, paperwhite, \n",
      "--------------------------------------------------------------------------------\n",
      "Categories,Amazon Devices,Electronics Features,Streaming Media Players,Consumer Electronics,See more Amazon Fire TV Digital HD Media Streamer (Late...: game, amazon, voice search, search, fire tv, prime, roku, movie, netflix, tv, \n",
      "--------------------------------------------------------------------------------\n",
      "Categories,Amazon Devices,Streaming Media Players: kid prime, prime movie, box, roku, prime tv, content, comcast, movie, tv, prime, \n",
      "--------------------------------------------------------------------------------\n",
      "Cell Phones & Accessories,Accessories,Screen Protectors,Cell,Amazon Devices,Electronics: part, disrupt, antiglare, moshi, bubble, fire phone, screen, screen protector, phone, protector, \n",
      "--------------------------------------------------------------------------------\n",
      "Electronics,Amazon Devices: screen, early, big, want, apps, early review, samsung, review, fire, tablet, \n",
      "--------------------------------------------------------------------------------\n",
      "Kindle Store,Amazon Devices,Electronics: model, font, kindle touch, keyboard, page, kindle keyboard, read, great love, book, kindle, \n",
      "--------------------------------------------------------------------------------\n"
     ]
    }
   ],
   "source": [
    "print('Classes of the model: ',classifier_tfidf.classes_)\n",
    "print(80*'-')\n",
    "print('Shape of the coefficients of the model (categories x vocabulary size): ',classifier_tfidf.coef_.shape)\n",
    "print(80*'-')\n",
    "NN = 10\n",
    "# Get the 10 (here: NN, which you can adjust yourself) ids of the words with highest weights per category\n",
    "top_words = np.argsort(classifier_tfidf.coef_,axis=1)[:,-NN:]\n",
    "\n",
    "# Get the vocabulary of the model (mapping of words to ids):\n",
    "voc = vectorizer_tfidf.vocabulary_\n",
    "# Get the inverse vocabulary to map the ids of the words to the words:\n",
    "inv_voc = {v: k for k, v in voc.items()}\n",
    "\n",
    "# Get for each category (=class) the top ten words\n",
    "for n, w in enumerate(classifier_tfidf.classes_):\n",
    "    t = w + ': '\n",
    "    for i in range(NN):\n",
    "        t += inv_voc[top_words[n,i]]\n",
    "        if i!=NN:\n",
    "            t+=', '\n",
    "    print(t)\n",
    "    print(80*'-')"
   ]
  },
  {
   "cell_type": "code",
   "execution_count": 15,
   "id": "ae6a148c-7d03-4d52-ac31-0949b04a3531",
   "metadata": {},
   "outputs": [
    {
     "name": "stdout",
     "output_type": "stream",
     "text": [
      "Coding of labels into a one-hot vector: Amazon Devices is  [1 0 0 0 0 0 0 0 0 0 0 0 0 0 0 0 0 0 0]\n"
     ]
    }
   ],
   "source": [
    "# Renaming, Input -> X, Output -> y\n",
    "X_tf = df['text']\n",
    "y_tf_class = df['category']\n",
    "\n",
    "# Convert labels into a one-hot vector of size 5 (the number of distinct labels)\n",
    "lab = LabelBinarizer()\n",
    "lab.fit(y_tf_class)\n",
    "y_tf = lab.transform(y_tf_class)\n",
    "\n",
    "# Example (you can modify n)\n",
    "n=100\n",
    "print('Coding of labels into a one-hot vector: ' + y_tf_class[n] + ' is ', y_tf[n])\n",
    "\n",
    "# Split into training and test data\n",
    "X_tf_train, X_tf_test, y_tf_train, y_tf_test = train_test_split(X_tf, y_tf, test_size=0.3, random_state=42, stratify=df['category'])"
   ]
  },
  {
   "cell_type": "code",
   "execution_count": 16,
   "id": "9ebcef5f-a559-47aa-9e1d-347c472e9c86",
   "metadata": {},
   "outputs": [],
   "source": [
    "corpus = X_tf_train\n",
    "max_words = 15000\n",
    "tokenizer = Tokenizer(lower=True, split=' ', num_words=max_words, oov_token=\"<pad>\", filters='!\"#$%&()*+,-./:;<=>?@[\\\\]^_`{|}~\\t\\n')\n",
    "tokenizer.fit_on_texts(corpus)\n",
    "voc = tokenizer.word_index\n",
    "reverse_voc = dict([(value, key) for (key, value) in voc.items()])"
   ]
  },
  {
   "cell_type": "code",
   "execution_count": 17,
   "id": "8985a5da-accf-4ef3-ba6c-1d83b4951efa",
   "metadata": {},
   "outputs": [
    {
     "name": "stdout",
     "output_type": "stream",
     "text": [
      "Shape:  (1117, 200)\n",
      "----------------------------------------------------------------------------------------------------\n",
      "Example:  [  0   0   0   0   0   0   0   0   0   0   0   0   0   0   0   0   0   0\n",
      "   0   0   0   0   0   0   0   0   0   0   0   0   0   0   0   0   0   0\n",
      "   0   0   0   0   0   0   0   0   0   0   0   0   0   0   0   0   0   0\n",
      "   0   0   0   0   0   0   0   0   0   0   0   0   0   0   0   0   0   0\n",
      "   0   0   0   0   0   0   0   0   0   0   0   0   0   0   0   0   0   0\n",
      "   0   0   0   0   0   0   0   0   0   0   0   0   0   0   0   0   0   0\n",
      "   0   0   0   0   0   0   0   0   0   0   0   0   0   0   0   0   0   0\n",
      "   0   0   0   0   0   0   0   0   0   0   0   0   0   0   0   0   0   0\n",
      "   0   0   0   0   0   0   0   0   0   0   0   0   0   0   0   0   0   0\n",
      "   0   0   0   0   0   0   0   0   0   0   0   0   0   0   0   0   0   0\n",
      "   0   0   0   0   4 124   2 100   5 102   2 104  23   4 273   2 101  22\n",
      "   6 737]\n"
     ]
    }
   ],
   "source": [
    "max_len = 200\n",
    "\n",
    "sequences = tokenizer.texts_to_sequences(X_tf_train)\n",
    "X_tf_train_seq = kprocessing.sequence.pad_sequences(sequences, maxlen=max_len)\n",
    "\n",
    "# Ganti nilai NaN dengan string kosong di X_tf_test sebelum tokenization\n",
    "X_tf_test = X_tf_test.fillna('')\n",
    "\n",
    "# Apply the same to test data\n",
    "X_tf_test_seq = kprocessing.sequence.pad_sequences(tokenizer.texts_to_sequences(X_tf_test), maxlen=max_len)\n",
    "\n",
    "n=5 # You can adjust n default pak dosen 10\n",
    "print('Shape: ',X_tf_train_seq.shape)\n",
    "print(100*'-')\n",
    "print('Example: ',X_tf_train_seq[n,:])"
   ]
  },
  {
   "cell_type": "code",
   "execution_count": 18,
   "id": "588c519f-8965-4c9d-902e-4c6de3707058",
   "metadata": {},
   "outputs": [
    {
     "data": {
      "text/plain": [
       "(300,)"
      ]
     },
     "execution_count": 18,
     "metadata": {},
     "output_type": "execute_result"
    }
   ],
   "source": [
    "# This may take several minutes\n",
    "w2v = api.load(\"word2vec-google-news-300\")\n",
    "# Example of a word representation:\n",
    "w2v['hello'].shape"
   ]
  },
  {
   "cell_type": "code",
   "execution_count": 19,
   "id": "0cd284eb-628e-4689-8028-4e24491a238f",
   "metadata": {},
   "outputs": [],
   "source": [
    "# Build weights of the embbeddings matrix using w2v\n",
    "emb_matrix=np.zeros((max_words+1, 300))\n",
    "for i in range(1,len(reverse_voc)+1):\n",
    "    w = reverse_voc.get(i)\n",
    "    if w in w2v:\n",
    "        emb_matrix[i,:] = w2v[w]\n",
    "emb_size = emb_matrix.shape[1]"
   ]
  },
  {
   "cell_type": "code",
   "execution_count": 20,
   "id": "46bd111a-cf92-48e9-9423-a27bd7a6898f",
   "metadata": {},
   "outputs": [],
   "source": [
    "input_ = layers.Input(shape = X_tf_train_seq[0,:].shape,name='input')\n",
    "# Embedding layer (voc size plus un (\"UNK\", word with index 0)), using the pre-trained emb_matrix obtained from Word2Vec\n",
    "x = layers.Embedding(max_words+1,emb_size,weights=[emb_matrix],trainable=False, name='embedding')(input_)\n",
    "x = layers.Bidirectional(layers.LSTM(15,dropout=0.2),name='bidirectional-lstm')(x) # LSTM layer\n",
    "x = layers.Dropout(0.2, name='dropout')(x)\n",
    "x = layers.Dense(64, activation='relu', name='dense')(x)\n",
    "output = layers.Dense(nr_categories,activation='softmax', name='classification')(x)\n",
    "\n",
    "model = models.Model(input_, output)\n",
    "\n",
    "opt = optimizers.Adam(learning_rate=0.01, beta_1=0.9)\n",
    "model.compile(optimizer=opt,loss='categorical_crossentropy', metrics=['accuracy'])"
   ]
  },
  {
   "cell_type": "code",
   "execution_count": 21,
   "id": "8637ee34-0a79-4b89-8635-adf4f6c0ad05",
   "metadata": {},
   "outputs": [
    {
     "name": "stdout",
     "output_type": "stream",
     "text": [
      "Epoch 1/10\n",
      "18/18 [==============================] - 17s 403ms/step - loss: 2.1602 - accuracy: 0.4145 - val_loss: 1.6577 - val_accuracy: 0.5437\n",
      "Epoch 2/10\n",
      "18/18 [==============================] - 5s 295ms/step - loss: 1.5744 - accuracy: 0.5604 - val_loss: 1.3721 - val_accuracy: 0.5938\n",
      "Epoch 3/10\n",
      "18/18 [==============================] - 5s 259ms/step - loss: 1.2651 - accuracy: 0.6410 - val_loss: 1.3082 - val_accuracy: 0.6021\n",
      "Epoch 4/10\n",
      "18/18 [==============================] - 4s 233ms/step - loss: 1.1244 - accuracy: 0.6759 - val_loss: 1.1214 - val_accuracy: 0.6833\n",
      "Epoch 5/10\n",
      "18/18 [==============================] - 5s 269ms/step - loss: 0.9017 - accuracy: 0.7323 - val_loss: 0.9911 - val_accuracy: 0.7146\n",
      "Epoch 6/10\n",
      "18/18 [==============================] - 5s 286ms/step - loss: 0.7508 - accuracy: 0.7502 - val_loss: 0.9300 - val_accuracy: 0.7167\n",
      "Epoch 7/10\n",
      "18/18 [==============================] - 4s 227ms/step - loss: 0.6641 - accuracy: 0.7762 - val_loss: 0.9279 - val_accuracy: 0.7312\n",
      "Epoch 8/10\n",
      "18/18 [==============================] - 5s 290ms/step - loss: 0.5712 - accuracy: 0.8165 - val_loss: 0.9336 - val_accuracy: 0.7437\n",
      "Epoch 9/10\n",
      "18/18 [==============================] - 4s 224ms/step - loss: 0.5092 - accuracy: 0.8102 - val_loss: 0.9703 - val_accuracy: 0.7250\n",
      "Epoch 10/10\n",
      "18/18 [==============================] - 4s 219ms/step - loss: 0.4963 - accuracy: 0.8353 - val_loss: 0.9077 - val_accuracy: 0.7375\n"
     ]
    }
   ],
   "source": [
    "start_time = datetime.now()\n",
    "history = model.fit(X_tf_train_seq, y_tf_train, batch_size=64, shuffle=True, epochs=10, validation_data=(X_tf_test_seq, y_tf_test))\n",
    "end_time = datetime.now()\n",
    "\n",
    "training_time_rnn = (end_time - start_time).total_seconds()"
   ]
  },
  {
   "cell_type": "code",
   "execution_count": 22,
   "id": "51a0a55f-6cf7-4a6a-800e-f3fb4e97c9ac",
   "metadata": {},
   "outputs": [
    {
     "data": {
      "text/plain": [
       "<matplotlib.legend.Legend at 0x1c3ca19c880>"
      ]
     },
     "execution_count": 22,
     "metadata": {},
     "output_type": "execute_result"
    },
    {
     "data": {
      "image/png": "[encoded data removed]",
      "text/plain": [
       "<Figure size 1500x500 with 2 Axes>"
      ]
     },
     "metadata": {},
     "output_type": "display_data"
    }
   ],
   "source": [
    "fig, ax = plt.subplots(nrows=1, ncols=2, figsize=(15, 5))\n",
    "ax[0].set(title='Loss')\n",
    "ax[0].plot(history.history['loss'], label='Training')\n",
    "ax[0].plot(history.history['val_loss'], label='Validation')\n",
    "ax[0].legend(loc=\"upper right\")\n",
    "\n",
    "ax[1].set(title='Accuracy')\n",
    "ax[1].plot(history.history['accuracy'], label='Training')\n",
    "ax[1].plot(history.history['val_accuracy'], label='Validation')\n",
    "ax[1].legend(loc=\"lower right\")"
   ]
  },
  {
   "cell_type": "code",
   "execution_count": 23,
   "id": "342e6ff2-ca20-48ef-9e6b-5e8040da830e",
   "metadata": {},
   "outputs": [
    {
     "name": "stdout",
     "output_type": "stream",
     "text": [
      "Accuracy Training data: 83.5%\n",
      "Accuracy Test data: 73.8%\n",
      "Training time: 58.6s\n"
     ]
    }
   ],
   "source": [
    "accuracy_rnn = history.history['val_accuracy'][-1]\n",
    "print('Accuracy Training data: {:.1%}'.format(history.history['accuracy'][-1]))\n",
    "print('Accuracy Test data: {:.1%}'.format(history.history['val_accuracy'][-1]))\n",
    "print('Training time: {:.1f}s'.format(training_time_rnn))"
   ]
  },
  {
   "cell_type": "code",
   "execution_count": 24,
   "id": "498caeb8-e02d-4fb0-b141-d365c1bb51df",
   "metadata": {},
   "outputs": [
    {
     "name": "stdout",
     "output_type": "stream",
     "text": [
      "Coding of labels into a one-hot vector: Amazon Devices is  [1 0 0 0 0 0 0 0 0 0 0 0 0 0 0 0 0 0 0]\n"
     ]
    }
   ],
   "source": [
    "# Renaming, Input -> X, Output -> y\n",
    "X_bert = df['text']\n",
    "y_bert_class = df['category']\n",
    "\n",
    "# Convert labels into a one-hot vector of size 5 (the number of distinct labels)\n",
    "lab = LabelBinarizer()\n",
    "lab.fit(y_bert_class)\n",
    "y_bert = lab.transform(y_bert_class)\n",
    "\n",
    "# Example (you can modify n)\n",
    "n=100\n",
    "print('Coding of labels into a one-hot vector: ' + y_bert_class[n] + ' is ', y_bert[n])"
   ]
  },
  {
   "cell_type": "code",
   "execution_count": 25,
   "id": "c4904e3f-10b7-4bda-8a12-948671babe88",
   "metadata": {},
   "outputs": [],
   "source": [
    "# distil-bert tokenizer\n",
    "tokenizer_bert = transformers.DistilBertTokenizer.from_pretrained('distilbert-base-uncased')\n",
    "\n",
    "# Simpan data teks asli di variabel baru, misal X_bert_texts\n",
    "# X_bert_texts = df['text'].astype(str).tolist()  # Ubah ke list of strings, pastikan semua elemen adalah string\n",
    "X_bert = df['text'].astype(str).tolist()\n",
    "\n",
    "# Tokenisasi X_bert_texts\n",
    "X_bert = [tokenizer_bert(text, padding='max_length', max_length=512, truncation=True)['input_ids'] for text in X_bert] \n",
    "X_bert = np.array(X_bert, dtype='int32')"
   ]
  },
  {
   "cell_type": "code",
   "execution_count": 26,
   "id": "30467937-46c6-431e-883b-78ffca7ee1a2",
   "metadata": {},
   "outputs": [
    {
     "name": "stdout",
     "output_type": "stream",
     "text": [
      "Shape of training data:  (1117, 512)\n"
     ]
    }
   ],
   "source": [
    "# Train/test split\n",
    "X_bert_train, X_bert_test, y_bert_train, y_bert_test = train_test_split(X_bert, y_bert, test_size=0.3, random_state=42, stratify=df['category'])\n",
    "print('Shape of training data: ',X_bert_train.shape)"
   ]
  },
  {
   "cell_type": "code",
   "execution_count": 27,
   "id": "e39761b1-f370-4fa5-8383-247ff369f88a",
   "metadata": {},
   "outputs": [
    {
     "name": "stderr",
     "output_type": "stream",
     "text": [
      "Some weights of the PyTorch model were not used when initializing the TF 2.0 model TFDistilBertModel: ['vocab_layer_norm.weight', 'vocab_layer_norm.bias', 'vocab_transform.weight', 'vocab_transform.bias', 'vocab_projector.bias']\n",
      "- This IS expected if you are initializing TFDistilBertModel from a PyTorch model trained on another task or with another architecture (e.g. initializing a TFBertForSequenceClassification model from a BertForPreTraining model).\n",
      "- This IS NOT expected if you are initializing TFDistilBertModel from a PyTorch model that you expect to be exactly identical (e.g. initializing a TFBertForSequenceClassification model from a BertForSequenceClassification model).\n",
      "All the weights of TFDistilBertModel were initialized from the PyTorch model.\n",
      "If your task is similar to the task the model of the checkpoint was trained on, you can already use TFDistilBertModel for predictions without further training.\n"
     ]
    }
   ],
   "source": [
    "config = transformers.DistilBertConfig(dropout=0.2, attention_dropout=0.2)\n",
    "dbert = transformers.TFDistilBertModel.from_pretrained(\n",
    "    'distilbert-base-uncased',\n",
    "    config=config,\n",
    "    trainable=False,\n",
    "    force_download=True)"
   ]
  },
  {
   "cell_type": "code",
   "execution_count": 28,
   "id": "cca284a9-c5eb-4f58-976c-6e14d464d586",
   "metadata": {},
   "outputs": [
    {
     "name": "stdout",
     "output_type": "stream",
     "text": [
      "Object type:  <class 'transformers.modeling_tf_outputs.TFBaseModelOutput'>\n",
      "Output format (shape):  (5, 512, 768)\n",
      "Output used as input for the classifier (shape):  (5, 768)\n"
     ]
    }
   ],
   "source": [
    "# Let's create a sampe of size 5 from the training data\n",
    "sample = X_bert_train[0:5]\n",
    "print('Object type: ', type(dbert(sample)))\n",
    "print('Output format (shape): ',dbert(sample)[0].shape)\n",
    "print('Output used as input for the classifier (shape): ', dbert(sample)[0][:,0,:].shape)"
   ]
  },
  {
   "cell_type": "code",
   "execution_count": 29,
   "id": "a11ad88b-2021-44cc-9cbd-53cf0c13b63c",
   "metadata": {},
   "outputs": [
    {
     "name": "stdout",
     "output_type": "stream",
     "text": [
      "WARNING:tensorflow:\n",
      "The following Variables were used a Lambda layer's call (lambda), but\n",
      "are not present in its tracked objects:\n",
      "  <tf.Variable 'tf_distil_bert_model/distilbert/embeddings/word_embeddings/weight:0' shape=(30522, 768) dtype=float32>\n",
      "  <tf.Variable 'tf_distil_bert_model/distilbert/embeddings/position_embeddings/embeddings:0' shape=(512, 768) dtype=float32>\n",
      "  <tf.Variable 'tf_distil_bert_model/distilbert/embeddings/LayerNorm/gamma:0' shape=(768,) dtype=float32>\n",
      "  <tf.Variable 'tf_distil_bert_model/distilbert/embeddings/LayerNorm/beta:0' shape=(768,) dtype=float32>\n",
      "  <tf.Variable 'tf_distil_bert_model/distilbert/transformer/layer_._0/attention/q_lin/kernel:0' shape=(768, 768) dtype=float32>\n",
      "  <tf.Variable 'tf_distil_bert_model/distilbert/transformer/layer_._0/attention/q_lin/bias:0' shape=(768,) dtype=float32>\n",
      "  <tf.Variable 'tf_distil_bert_model/distilbert/transformer/layer_._0/attention/k_lin/kernel:0' shape=(768, 768) dtype=float32>\n",
      "  <tf.Variable 'tf_distil_bert_model/distilbert/transformer/layer_._0/attention/k_lin/bias:0' shape=(768,) dtype=float32>\n",
      "  <tf.Variable 'tf_distil_bert_model/distilbert/transformer/layer_._0/attention/v_lin/kernel:0' shape=(768, 768) dtype=float32>\n",
      "  <tf.Variable 'tf_distil_bert_model/distilbert/transformer/layer_._0/attention/v_lin/bias:0' shape=(768,) dtype=float32>\n",
      "  <tf.Variable 'tf_distil_bert_model/distilbert/transformer/layer_._0/attention/out_lin/kernel:0' shape=(768, 768) dtype=float32>\n",
      "  <tf.Variable 'tf_distil_bert_model/distilbert/transformer/layer_._0/attention/out_lin/bias:0' shape=(768,) dtype=float32>\n",
      "  <tf.Variable 'tf_distil_bert_model/distilbert/transformer/layer_._0/sa_layer_norm/gamma:0' shape=(768,) dtype=float32>\n",
      "  <tf.Variable 'tf_distil_bert_model/distilbert/transformer/layer_._0/sa_layer_norm/beta:0' shape=(768,) dtype=float32>\n",
      "  <tf.Variable 'tf_distil_bert_model/distilbert/transformer/layer_._0/ffn/lin1/kernel:0' shape=(768, 3072) dtype=float32>\n",
      "  <tf.Variable 'tf_distil_bert_model/distilbert/transformer/layer_._0/ffn/lin1/bias:0' shape=(3072,) dtype=float32>\n",
      "  <tf.Variable 'tf_distil_bert_model/distilbert/transformer/layer_._0/ffn/lin2/kernel:0' shape=(3072, 768) dtype=float32>\n",
      "  <tf.Variable 'tf_distil_bert_model/distilbert/transformer/layer_._0/ffn/lin2/bias:0' shape=(768,) dtype=float32>\n",
      "  <tf.Variable 'tf_distil_bert_model/distilbert/transformer/layer_._0/output_layer_norm/gamma:0' shape=(768,) dtype=float32>\n",
      "  <tf.Variable 'tf_distil_bert_model/distilbert/transformer/layer_._0/output_layer_norm/beta:0' shape=(768,) dtype=float32>\n",
      "  <tf.Variable 'tf_distil_bert_model/distilbert/transformer/layer_._1/attention/q_lin/kernel:0' shape=(768, 768) dtype=float32>\n",
      "  <tf.Variable 'tf_distil_bert_model/distilbert/transformer/layer_._1/attention/q_lin/bias:0' shape=(768,) dtype=float32>\n",
      "  <tf.Variable 'tf_distil_bert_model/distilbert/transformer/layer_._1/attention/k_lin/kernel:0' shape=(768, 768) dtype=float32>\n",
      "  <tf.Variable 'tf_distil_bert_model/distilbert/transformer/layer_._1/attention/k_lin/bias:0' shape=(768,) dtype=float32>\n",
      "  <tf.Variable 'tf_distil_bert_model/distilbert/transformer/layer_._1/attention/v_lin/kernel:0' shape=(768, 768) dtype=float32>\n",
      "  <tf.Variable 'tf_distil_bert_model/distilbert/transformer/layer_._1/attention/v_lin/bias:0' shape=(768,) dtype=float32>\n",
      "  <tf.Variable 'tf_distil_bert_model/distilbert/transformer/layer_._1/attention/out_lin/kernel:0' shape=(768, 768) dtype=float32>\n",
      "  <tf.Variable 'tf_distil_bert_model/distilbert/transformer/layer_._1/attention/out_lin/bias:0' shape=(768,) dtype=float32>\n",
      "  <tf.Variable 'tf_distil_bert_model/distilbert/transformer/layer_._1/sa_layer_norm/gamma:0' shape=(768,) dtype=float32>\n",
      "  <tf.Variable 'tf_distil_bert_model/distilbert/transformer/layer_._1/sa_layer_norm/beta:0' shape=(768,) dtype=float32>\n",
      "  <tf.Variable 'tf_distil_bert_model/distilbert/transformer/layer_._1/ffn/lin1/kernel:0' shape=(768, 3072) dtype=float32>\n",
      "  <tf.Variable 'tf_distil_bert_model/distilbert/transformer/layer_._1/ffn/lin1/bias:0' shape=(3072,) dtype=float32>\n",
      "  <tf.Variable 'tf_distil_bert_model/distilbert/transformer/layer_._1/ffn/lin2/kernel:0' shape=(3072, 768) dtype=float32>\n",
      "  <tf.Variable 'tf_distil_bert_model/distilbert/transformer/layer_._1/ffn/lin2/bias:0' shape=(768,) dtype=float32>\n",
      "  <tf.Variable 'tf_distil_bert_model/distilbert/transformer/layer_._1/output_layer_norm/gamma:0' shape=(768,) dtype=float32>\n",
      "  <tf.Variable 'tf_distil_bert_model/distilbert/transformer/layer_._1/output_layer_norm/beta:0' shape=(768,) dtype=float32>\n",
      "  <tf.Variable 'tf_distil_bert_model/distilbert/transformer/layer_._2/attention/q_lin/kernel:0' shape=(768, 768) dtype=float32>\n",
      "  <tf.Variable 'tf_distil_bert_model/distilbert/transformer/layer_._2/attention/q_lin/bias:0' shape=(768,) dtype=float32>\n",
      "  <tf.Variable 'tf_distil_bert_model/distilbert/transformer/layer_._2/attention/k_lin/kernel:0' shape=(768, 768) dtype=float32>\n",
      "  <tf.Variable 'tf_distil_bert_model/distilbert/transformer/layer_._2/attention/k_lin/bias:0' shape=(768,) dtype=float32>\n",
      "  <tf.Variable 'tf_distil_bert_model/distilbert/transformer/layer_._2/attention/v_lin/kernel:0' shape=(768, 768) dtype=float32>\n",
      "  <tf.Variable 'tf_distil_bert_model/distilbert/transformer/layer_._2/attention/v_lin/bias:0' shape=(768,) dtype=float32>\n",
      "  <tf.Variable 'tf_distil_bert_model/distilbert/transformer/layer_._2/attention/out_lin/kernel:0' shape=(768, 768) dtype=float32>\n",
      "  <tf.Variable 'tf_distil_bert_model/distilbert/transformer/layer_._2/attention/out_lin/bias:0' shape=(768,) dtype=float32>\n",
      "  <tf.Variable 'tf_distil_bert_model/distilbert/transformer/layer_._2/sa_layer_norm/gamma:0' shape=(768,) dtype=float32>\n",
      "  <tf.Variable 'tf_distil_bert_model/distilbert/transformer/layer_._2/sa_layer_norm/beta:0' shape=(768,) dtype=float32>\n",
      "  <tf.Variable 'tf_distil_bert_model/distilbert/transformer/layer_._2/ffn/lin1/kernel:0' shape=(768, 3072) dtype=float32>\n",
      "  <tf.Variable 'tf_distil_bert_model/distilbert/transformer/layer_._2/ffn/lin1/bias:0' shape=(3072,) dtype=float32>\n",
      "  <tf.Variable 'tf_distil_bert_model/distilbert/transformer/layer_._2/ffn/lin2/kernel:0' shape=(3072, 768) dtype=float32>\n",
      "  <tf.Variable 'tf_distil_bert_model/distilbert/transformer/layer_._2/ffn/lin2/bias:0' shape=(768,) dtype=float32>\n",
      "  <tf.Variable 'tf_distil_bert_model/distilbert/transformer/layer_._2/output_layer_norm/gamma:0' shape=(768,) dtype=float32>\n",
      "  <tf.Variable 'tf_distil_bert_model/distilbert/transformer/layer_._2/output_layer_norm/beta:0' shape=(768,) dtype=float32>\n",
      "  <tf.Variable 'tf_distil_bert_model/distilbert/transformer/layer_._3/attention/q_lin/kernel:0' shape=(768, 768) dtype=float32>\n",
      "  <tf.Variable 'tf_distil_bert_model/distilbert/transformer/layer_._3/attention/q_lin/bias:0' shape=(768,) dtype=float32>\n",
      "  <tf.Variable 'tf_distil_bert_model/distilbert/transformer/layer_._3/attention/k_lin/kernel:0' shape=(768, 768) dtype=float32>\n",
      "  <tf.Variable 'tf_distil_bert_model/distilbert/transformer/layer_._3/attention/k_lin/bias:0' shape=(768,) dtype=float32>\n",
      "  <tf.Variable 'tf_distil_bert_model/distilbert/transformer/layer_._3/attention/v_lin/kernel:0' shape=(768, 768) dtype=float32>\n",
      "  <tf.Variable 'tf_distil_bert_model/distilbert/transformer/layer_._3/attention/v_lin/bias:0' shape=(768,) dtype=float32>\n",
      "  <tf.Variable 'tf_distil_bert_model/distilbert/transformer/layer_._3/attention/out_lin/kernel:0' shape=(768, 768) dtype=float32>\n",
      "  <tf.Variable 'tf_distil_bert_model/distilbert/transformer/layer_._3/attention/out_lin/bias:0' shape=(768,) dtype=float32>\n",
      "  <tf.Variable 'tf_distil_bert_model/distilbert/transformer/layer_._3/sa_layer_norm/gamma:0' shape=(768,) dtype=float32>\n",
      "  <tf.Variable 'tf_distil_bert_model/distilbert/transformer/layer_._3/sa_layer_norm/beta:0' shape=(768,) dtype=float32>\n",
      "  <tf.Variable 'tf_distil_bert_model/distilbert/transformer/layer_._3/ffn/lin1/kernel:0' shape=(768, 3072) dtype=float32>\n",
      "  <tf.Variable 'tf_distil_bert_model/distilbert/transformer/layer_._3/ffn/lin1/bias:0' shape=(3072,) dtype=float32>\n",
      "  <tf.Variable 'tf_distil_bert_model/distilbert/transformer/layer_._3/ffn/lin2/kernel:0' shape=(3072, 768) dtype=float32>\n",
      "  <tf.Variable 'tf_distil_bert_model/distilbert/transformer/layer_._3/ffn/lin2/bias:0' shape=(768,) dtype=float32>\n",
      "  <tf.Variable 'tf_distil_bert_model/distilbert/transformer/layer_._3/output_layer_norm/gamma:0' shape=(768,) dtype=float32>\n",
      "  <tf.Variable 'tf_distil_bert_model/distilbert/transformer/layer_._3/output_layer_norm/beta:0' shape=(768,) dtype=float32>\n",
      "  <tf.Variable 'tf_distil_bert_model/distilbert/transformer/layer_._4/attention/q_lin/kernel:0' shape=(768, 768) dtype=float32>\n",
      "  <tf.Variable 'tf_distil_bert_model/distilbert/transformer/layer_._4/attention/q_lin/bias:0' shape=(768,) dtype=float32>\n",
      "  <tf.Variable 'tf_distil_bert_model/distilbert/transformer/layer_._4/attention/k_lin/kernel:0' shape=(768, 768) dtype=float32>\n",
      "  <tf.Variable 'tf_distil_bert_model/distilbert/transformer/layer_._4/attention/k_lin/bias:0' shape=(768,) dtype=float32>\n",
      "  <tf.Variable 'tf_distil_bert_model/distilbert/transformer/layer_._4/attention/v_lin/kernel:0' shape=(768, 768) dtype=float32>\n",
      "  <tf.Variable 'tf_distil_bert_model/distilbert/transformer/layer_._4/attention/v_lin/bias:0' shape=(768,) dtype=float32>\n",
      "  <tf.Variable 'tf_distil_bert_model/distilbert/transformer/layer_._4/attention/out_lin/kernel:0' shape=(768, 768) dtype=float32>\n",
      "  <tf.Variable 'tf_distil_bert_model/distilbert/transformer/layer_._4/attention/out_lin/bias:0' shape=(768,) dtype=float32>\n",
      "  <tf.Variable 'tf_distil_bert_model/distilbert/transformer/layer_._4/sa_layer_norm/gamma:0' shape=(768,) dtype=float32>\n",
      "  <tf.Variable 'tf_distil_bert_model/distilbert/transformer/layer_._4/sa_layer_norm/beta:0' shape=(768,) dtype=float32>\n",
      "  <tf.Variable 'tf_distil_bert_model/distilbert/transformer/layer_._4/ffn/lin1/kernel:0' shape=(768, 3072) dtype=float32>\n",
      "  <tf.Variable 'tf_distil_bert_model/distilbert/transformer/layer_._4/ffn/lin1/bias:0' shape=(3072,) dtype=float32>\n",
      "  <tf.Variable 'tf_distil_bert_model/distilbert/transformer/layer_._4/ffn/lin2/kernel:0' shape=(3072, 768) dtype=float32>\n",
      "  <tf.Variable 'tf_distil_bert_model/distilbert/transformer/layer_._4/ffn/lin2/bias:0' shape=(768,) dtype=float32>\n",
      "  <tf.Variable 'tf_distil_bert_model/distilbert/transformer/layer_._4/output_layer_norm/gamma:0' shape=(768,) dtype=float32>\n",
      "  <tf.Variable 'tf_distil_bert_model/distilbert/transformer/layer_._4/output_layer_norm/beta:0' shape=(768,) dtype=float32>\n",
      "  <tf.Variable 'tf_distil_bert_model/distilbert/transformer/layer_._5/attention/q_lin/kernel:0' shape=(768, 768) dtype=float32>\n",
      "  <tf.Variable 'tf_distil_bert_model/distilbert/transformer/layer_._5/attention/q_lin/bias:0' shape=(768,) dtype=float32>\n",
      "  <tf.Variable 'tf_distil_bert_model/distilbert/transformer/layer_._5/attention/k_lin/kernel:0' shape=(768, 768) dtype=float32>\n",
      "  <tf.Variable 'tf_distil_bert_model/distilbert/transformer/layer_._5/attention/k_lin/bias:0' shape=(768,) dtype=float32>\n",
      "  <tf.Variable 'tf_distil_bert_model/distilbert/transformer/layer_._5/attention/v_lin/kernel:0' shape=(768, 768) dtype=float32>\n",
      "  <tf.Variable 'tf_distil_bert_model/distilbert/transformer/layer_._5/attention/v_lin/bias:0' shape=(768,) dtype=float32>\n",
      "  <tf.Variable 'tf_distil_bert_model/distilbert/transformer/layer_._5/attention/out_lin/kernel:0' shape=(768, 768) dtype=float32>\n",
      "  <tf.Variable 'tf_distil_bert_model/distilbert/transformer/layer_._5/attention/out_lin/bias:0' shape=(768,) dtype=float32>\n",
      "  <tf.Variable 'tf_distil_bert_model/distilbert/transformer/layer_._5/sa_layer_norm/gamma:0' shape=(768,) dtype=float32>\n",
      "  <tf.Variable 'tf_distil_bert_model/distilbert/transformer/layer_._5/sa_layer_norm/beta:0' shape=(768,) dtype=float32>\n",
      "  <tf.Variable 'tf_distil_bert_model/distilbert/transformer/layer_._5/ffn/lin1/kernel:0' shape=(768, 3072) dtype=float32>\n",
      "  <tf.Variable 'tf_distil_bert_model/distilbert/transformer/layer_._5/ffn/lin1/bias:0' shape=(3072,) dtype=float32>\n",
      "  <tf.Variable 'tf_distil_bert_model/distilbert/transformer/layer_._5/ffn/lin2/kernel:0' shape=(3072, 768) dtype=float32>\n",
      "  <tf.Variable 'tf_distil_bert_model/distilbert/transformer/layer_._5/ffn/lin2/bias:0' shape=(768,) dtype=float32>\n",
      "  <tf.Variable 'tf_distil_bert_model/distilbert/transformer/layer_._5/output_layer_norm/gamma:0' shape=(768,) dtype=float32>\n",
      "  <tf.Variable 'tf_distil_bert_model/distilbert/transformer/layer_._5/output_layer_norm/beta:0' shape=(768,) dtype=float32>\n",
      "It is possible that this is intended behavior, but it is more likely\n",
      "an omission. This is a strong indication that this layer should be\n",
      "formulated as a subclassed Layer rather than a Lambda layer.\n"
     ]
    }
   ],
   "source": [
    "input_ids_in = layers.Input(shape=(512,), name='input_token', dtype='int32')\n",
    "\n",
    "# Pass input through DistilBERT using Lambda layer\n",
    "# Specify the output_shape argument for the Lambda layer\n",
    "x = layers.Lambda(lambda x: dbert(x)[0][:, 0, :], output_shape=(768,))(input_ids_in) \n",
    "# 768 is the hidden size of distilbert-base-uncased\n",
    "\n",
    "# Additional layers\n",
    "x = layers.Dropout(0.2, name='dropout')(x)\n",
    "x = layers.Dense(64, activation='relu', name='dense')(x)\n",
    "x = layers.Dense(y_bert_train.shape[1], activation='softmax', name='classification')(x)\n",
    "\n",
    "# Model definition\n",
    "dmodel = models.Model(inputs=input_ids_in, outputs=x)\n",
    "\n",
    "# Compile the model\n",
    "dmodel.compile(optimizer='adam', loss='categorical_crossentropy', metrics=['accuracy'])"
   ]
  },
  {
   "cell_type": "code",
   "execution_count": 30,
   "id": "96c2b31f-29da-4309-9ba4-8b2501a336a0",
   "metadata": {},
   "outputs": [
    {
     "name": "stdout",
     "output_type": "stream",
     "text": [
      "Model: \"model_1\"\n",
      "_________________________________________________________________\n",
      " Layer (type)                Output Shape              Param #   \n",
      "=================================================================\n",
      " input_token (InputLayer)    [(None, 512)]             0         \n",
      "                                                                 \n",
      " lambda (Lambda)             (None, 768)               0         \n",
      "                                                                 \n",
      " dropout (Dropout)           (None, 768)               0         \n",
      "                                                                 \n",
      " dense (Dense)               (None, 64)                49216     \n",
      "                                                                 \n",
      " classification (Dense)      (None, 19)                1235      \n",
      "                                                                 \n",
      "=================================================================\n",
      "Total params: 50451 (197.07 KB)\n",
      "Trainable params: 50451 (197.07 KB)\n",
      "Non-trainable params: 0 (0.00 Byte)\n",
      "_________________________________________________________________\n"
     ]
    }
   ],
   "source": [
    "dmodel.summary()"
   ]
  },
  {
   "cell_type": "code",
   "execution_count": 31,
   "id": "44abda22-f414-4cc7-8669-d530ca4cf1dd",
   "metadata": {},
   "outputs": [
    {
     "name": "stdout",
     "output_type": "stream",
     "text": [
      "Epoch 1/5\n",
      "35/35 [==============================] - 961s 28s/step - loss: 2.2352 - accuracy: 0.3760 - val_loss: 1.8959 - val_accuracy: 0.4729\n",
      "Epoch 2/5\n",
      "35/35 [==============================] - 1056s 30s/step - loss: 1.8250 - accuracy: 0.4942 - val_loss: 1.7204 - val_accuracy: 0.4792\n",
      "Epoch 3/5\n",
      "35/35 [==============================] - 1107s 32s/step - loss: 1.7190 - accuracy: 0.5103 - val_loss: 1.6379 - val_accuracy: 0.5375\n",
      "Epoch 4/5\n",
      "35/35 [==============================] - 1115s 32s/step - loss: 1.6427 - accuracy: 0.5345 - val_loss: 1.5555 - val_accuracy: 0.5562\n",
      "Epoch 5/5\n",
      "35/35 [==============================] - 1115s 32s/step - loss: 1.5669 - accuracy: 0.5560 - val_loss: 1.5332 - val_accuracy: 0.5646\n"
     ]
    }
   ],
   "source": [
    "# Train the model\n",
    "start_time = datetime.now()\n",
    "history = dmodel.fit(X_bert_train, y_bert_train, batch_size=32, shuffle=True, epochs=5, validation_data=(X_bert_test, y_bert_test))\n",
    "end_time = datetime.now()\n",
    "\n",
    "training_time_bert = (end_time - start_time).total_seconds()"
   ]
  },
  {
   "cell_type": "code",
   "execution_count": 32,
   "id": "7af892ec-8e0a-4cf6-8a45-a335fe6f1272",
   "metadata": {},
   "outputs": [
    {
     "data": {
      "text/plain": [
       "<matplotlib.legend.Legend at 0x1c3ff755f70>"
      ]
     },
     "execution_count": 32,
     "metadata": {},
     "output_type": "execute_result"
    },
    {
     "data": {
      "image/png": "[encoded data removed]",
      "text/plain": [
       "<Figure size 1500x500 with 2 Axes>"
      ]
     },
     "metadata": {},
     "output_type": "display_data"
    }
   ],
   "source": [
    "fig, ax = plt.subplots(nrows=1, ncols=2, figsize=(15, 5))\n",
    "ax[0].set(title='Loss')\n",
    "ax[0].plot(history.history['loss'], label='Training')\n",
    "ax[0].plot(history.history['val_loss'], label='Validation')\n",
    "ax[0].legend(loc=\"upper right\")\n",
    "\n",
    "ax[1].set(title='Accuracy')\n",
    "ax[1].plot(history.history['accuracy'], label='Training')\n",
    "ax[1].plot(history.history['val_accuracy'], label='Validation')\n",
    "ax[1].legend(loc=\"lower right\")"
   ]
  },
  {
   "cell_type": "code",
   "execution_count": 33,
   "id": "e68299cb-de90-46cb-9004-ad0d243326be",
   "metadata": {},
   "outputs": [
    {
     "name": "stdout",
     "output_type": "stream",
     "text": [
      "Accuracy Training data: 55.6%\n",
      "Accuracy Test data: 56.5%\n",
      "Training time: 5354.4s (or 89.2 minutes)\n"
     ]
    }
   ],
   "source": [
    "accuracy_bert = history.history['val_accuracy'][-1]\n",
    "print('Accuracy Training data: {:.1%}'.format(history.history['accuracy'][-1]))\n",
    "print('Accuracy Test data: {:.1%}'.format(history.history['val_accuracy'][-1]))\n",
    "print('Training time: {:.1f}s (or {:.1f} minutes)'.format(training_time_bert, training_time_bert/60))"
   ]
  },
  {
   "cell_type": "code",
   "execution_count": 34,
   "id": "02c6be1d-5fc2-4285-b7f1-00640373c5dd",
   "metadata": {},
   "outputs": [
    {
     "data": {
      "text/html": [
       "<div>\n",
       "<style scoped>\n",
       "    .dataframe tbody tr th:only-of-type {\n",
       "        vertical-align: middle;\n",
       "    }\n",
       "\n",
       "    .dataframe tbody tr th {\n",
       "        vertical-align: top;\n",
       "    }\n",
       "\n",
       "    .dataframe thead th {\n",
       "        text-align: right;\n",
       "    }\n",
       "</style>\n",
       "<table border=\"1\" class=\"dataframe\">\n",
       "  <thead>\n",
       "    <tr style=\"text-align: right;\">\n",
       "      <th></th>\n",
       "      <th>Method</th>\n",
       "      <th>Accuracy</th>\n",
       "      <th>Training Time [s]</th>\n",
       "      <th>Training Time [x]</th>\n",
       "    </tr>\n",
       "  </thead>\n",
       "  <tbody>\n",
       "    <tr>\n",
       "      <th>0</th>\n",
       "      <td>TF-IDF</td>\n",
       "      <td>77.3%</td>\n",
       "      <td>2.8</td>\n",
       "      <td>1.0x</td>\n",
       "    </tr>\n",
       "    <tr>\n",
       "      <th>1</th>\n",
       "      <td>RNN</td>\n",
       "      <td>73.8%</td>\n",
       "      <td>58.6</td>\n",
       "      <td>20.9x</td>\n",
       "    </tr>\n",
       "    <tr>\n",
       "      <th>2</th>\n",
       "      <td>BERT</td>\n",
       "      <td>56.5%</td>\n",
       "      <td>5354.4</td>\n",
       "      <td>1912.3x</td>\n",
       "    </tr>\n",
       "  </tbody>\n",
       "</table>\n",
       "</div>"
      ],
      "text/plain": [
       "   Method Accuracy  Training Time [s] Training Time [x]\n",
       "0  TF-IDF    77.3%                2.8              1.0x\n",
       "1     RNN    73.8%               58.6             20.9x\n",
       "2    BERT    56.5%             5354.4           1912.3x"
      ]
     },
     "metadata": {},
     "output_type": "display_data"
    }
   ],
   "source": [
    "method = ['TF-IDF', 'RNN', 'BERT']\n",
    "accuracy = [accuracy_tfidf, accuracy_rnn, accuracy_bert]\n",
    "accuracy = [str(round(acc*100, 1))+'%' for acc in accuracy]\n",
    "training_time = [round(training_time_tfidf,1), round(training_time_rnn,1), round(training_time_bert,1)]\n",
    "training_time_rounded = [round(tt,1) for tt in training_time]\n",
    "training_time = np.array(training_time)\n",
    "training_time_x = list(training_time /min(training_time))\n",
    "training_time_x = [str(round(ttx,1))+'x' for ttx in training_time_x]\n",
    "\n",
    "dict = {'Method' : method,\n",
    "        'Accuracy' : accuracy,\n",
    "        'Training Time [s]' : training_time_rounded,\n",
    "        'Training Time [x]' : training_time_x}\n",
    "df = pd.DataFrame(dict)\n",
    "display(df)"
   ]
  }
 ],
 "metadata": {
  "kernelspec": {
   "display_name": "NLP Sentiment Analyst (venv)",
   "language": "python",
   "name": "venv_tensorflow"
  },
  "language_info": {
   "codemirror_mode": {
    "name": "ipython",
    "version": 3
   },
   "file_extension": ".py",
   "mimetype": "text/x-python",
   "name": "python",
   "nbconvert_exporter": "python",
   "pygments_lexer": "ipython3",
   "version": "3.8.0"
  }
 },
 "nbformat": 4,
 "nbformat_minor": 5
}
